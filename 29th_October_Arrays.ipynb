{
 "cells": [
  {
   "cell_type": "code",
   "execution_count": 37,
   "id": "0d196cb5-ea5a-403d-b5bf-4d1d7abc4cb4",
   "metadata": {},
   "outputs": [
    {
     "name": "stdout",
     "output_type": "stream",
     "text": [
      "True\n"
     ]
    }
   ],
   "source": [
    "#1. Given an array, check if it contains any duplicates or not.\n",
    "#arr = [1, 2, 4, 2, 5, 9]\n",
    "#Output = True\n",
    "\n",
    "\n",
    "def duplicate(arr):\n",
    "    dic={}\n",
    "    for key in arr:\n",
    "        if key in dic:\n",
    "            dic[key]+=1            #if key is already exist then increment the value by 1\n",
    "        else:\n",
    "            dic[key]=1              #if key is not already exist then assign the value =1\n",
    "    \n",
    "    return (True if max(list(dic.values()))>1 else False)\n",
    "    \n",
    "    \n",
    "    \n",
    "arr = [1, 2,4, 2, 5, 9]\n",
    "print(duplicate(arr))\n",
    "    "
   ]
  },
  {
   "cell_type": "code",
   "execution_count": 67,
   "id": "f51c0602-0cd7-4b2b-b3c2-340a9d66d17a",
   "metadata": {},
   "outputs": [
    {
     "name": "stdout",
     "output_type": "stream",
     "text": [
      "[5, 6, 7, 1, 2, 3, 4]\n"
     ]
    }
   ],
   "source": [
    "#2. Given an array and an integer k, rotate the array to the right by k steps.\n",
    "#arr = [1, 2, 3, 4, 5, 6, 7] k = 3\n",
    "#Output = [5, 6, 7, 1, 2, 3, 4]\n",
    "\n",
    "\n",
    "arr = [1,2,3,4,5,6,7]\n",
    "k=3\n",
    "output= arr[-k:]+ arr[:-k]\n",
    "print(output)"
   ]
  },
  {
   "cell_type": "code",
   "execution_count": 72,
   "id": "ecfe8d9f-fa5f-48ce-a119-88f1756f6797",
   "metadata": {},
   "outputs": [
    {
     "name": "stdout",
     "output_type": "stream",
     "text": [
      "[12, 9, 7, 5, 4, 2]\n"
     ]
    }
   ],
   "source": [
    "#3. Reverse the given array in-place, means without using any extra data structure.\n",
    "#arr = [2, 4, 5, 7, 9, 12]\n",
    "#Output = [12, 9, 7, 5, 4, 2]\n",
    "\n",
    "arr = [2, 4, 5, 7, 9, 12]\n",
    "start,end = 0,len(arr)-1\n",
    "\n",
    "while end>start:\n",
    "    arr[end],arr[start]=arr[start],arr[end]\n",
    "    start+=1\n",
    "    end-=1\n",
    "    \n",
    "print(arr)"
   ]
  },
  {
   "cell_type": "code",
   "execution_count": 75,
   "id": "3d03b470-659e-43bc-ada7-8d7c64300d79",
   "metadata": {},
   "outputs": [
    {
     "name": "stdout",
     "output_type": "stream",
     "text": [
      "20\n"
     ]
    }
   ],
   "source": [
    "#4. Given an array of integers, find the maximum element in an array\n",
    "#arr = [10, 5, 20, 8, 15]\n",
    "#Output = 20\n",
    "\n",
    "arr = [10, 5, 20, 8, 15]\n",
    "maxVal = arr[0]\n",
    "for i in arr:\n",
    "    if i>maxVal:\n",
    "        maxVal=i\n",
    "print(maxVal)"
   ]
  },
  {
   "cell_type": "code",
   "execution_count": 26,
   "id": "a44d64f2-7b9e-4c0e-9e03-caccb097f0c2",
   "metadata": {},
   "outputs": [
    {
     "name": "stdout",
     "output_type": "stream",
     "text": [
      "[1, 2, 3, 4, 5]\n"
     ]
    }
   ],
   "source": [
    "#5. Given a sorted array, remove the duplicate element without using any extra data structure.\n",
    "#arr = [1, 1, 2, 2, 2, 3, 3, 4, 4, 4, 5, 5]\n",
    "#Output = [1, 2, 3, 4, 5]\n",
    "\n",
    "def removeDuplicates(arr):\n",
    "    j=0\n",
    "    for i in arr:\n",
    "        while i in arr:\n",
    "            arr.remove(i)\n",
    "        arr.insert(0,i)\n",
    "    arr.sort()\n",
    "    return arr\n",
    "\n",
    "arr = [1, 1, 2, 2, 2, 3, 3, 4, 4, 4, 5, 5]\n",
    "print(removeDuplicates(arr))"
   ]
  }
 ],
 "metadata": {
  "kernelspec": {
   "display_name": "Python 3 (ipykernel)",
   "language": "python",
   "name": "python3"
  },
  "language_info": {
   "codemirror_mode": {
    "name": "ipython",
    "version": 3
   },
   "file_extension": ".py",
   "mimetype": "text/x-python",
   "name": "python",
   "nbconvert_exporter": "python",
   "pygments_lexer": "ipython3",
   "version": "3.10.8"
  }
 },
 "nbformat": 4,
 "nbformat_minor": 5
}
